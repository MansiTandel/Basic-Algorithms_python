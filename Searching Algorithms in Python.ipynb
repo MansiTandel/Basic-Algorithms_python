{
 "cells": [
  {
   "cell_type": "code",
   "execution_count": 22,
   "id": "1b5caa8a",
   "metadata": {},
   "outputs": [],
   "source": [
    "# LINEAR SEARCH\n",
    "\n",
    "\n"
   ]
  },
  {
   "cell_type": "code",
   "execution_count": 17,
   "id": "0641864a",
   "metadata": {},
   "outputs": [],
   "source": [
    "def linear_search(arr,key):\n",
    "    \n",
    "    n=len(arr)\n",
    "    index=0\n",
    "    \n",
    "    while index<n:\n",
    "        \n",
    "        if arr[index]==key:\n",
    "            return index\n",
    "            \n",
    "        index = index + 1\n",
    "        \n",
    "    return -1"
   ]
  },
  {
   "cell_type": "code",
   "execution_count": 18,
   "id": "04bd62c4",
   "metadata": {},
   "outputs": [
    {
     "data": {
      "text/plain": [
       "3"
      ]
     },
     "execution_count": 18,
     "metadata": {},
     "output_type": "execute_result"
    }
   ],
   "source": [
    "linear_search([11,22,33,44,55],44)"
   ]
  },
  {
   "cell_type": "code",
   "execution_count": 19,
   "id": "112ab7f7",
   "metadata": {},
   "outputs": [
    {
     "data": {
      "text/plain": [
       "-1"
      ]
     },
     "execution_count": 19,
     "metadata": {},
     "output_type": "execute_result"
    }
   ],
   "source": [
    "linear_search([11,22,33,44,55],40)"
   ]
  },
  {
   "cell_type": "code",
   "execution_count": 20,
   "id": "3a617a5e",
   "metadata": {},
   "outputs": [],
   "source": [
    "arr=[1,2,3,4,5,6,7,8,9,10]\n",
    "result=linear_search(arr,6)"
   ]
  },
  {
   "cell_type": "code",
   "execution_count": 21,
   "id": "9e658a86",
   "metadata": {},
   "outputs": [
    {
     "name": "stdout",
     "output_type": "stream",
     "text": [
      "found at index:5\n"
     ]
    }
   ],
   "source": [
    "print(f\"found at index:{result}\")"
   ]
  },
  {
   "cell_type": "code",
   "execution_count": null,
   "id": "0287d8bc",
   "metadata": {},
   "outputs": [],
   "source": []
  },
  {
   "cell_type": "code",
   "execution_count": 25,
   "id": "a0caf047",
   "metadata": {},
   "outputs": [],
   "source": [
    "# BINARY SEARCH\n",
    "\n",
    "\n"
   ]
  },
  {
   "cell_type": "code",
   "execution_count": 51,
   "id": "8bb5ec17",
   "metadata": {},
   "outputs": [
    {
     "name": "stdout",
     "output_type": "stream",
     "text": [
      "element found at index 3\n"
     ]
    }
   ],
   "source": [
    "def binary_search(arr1,key):   # ITERATIVE METHOD\n",
    "    low=0\n",
    "    high=len(arr1)-1\n",
    "    mid=0\n",
    "    \n",
    "    while low<=high:\n",
    "        \n",
    "        mid = (low+high) // 2\n",
    "        \n",
    "        if arr1[mid]==key:\n",
    "            return mid\n",
    "        \n",
    "        elif key > arr1[mid]:\n",
    "            low=mid+1\n",
    "            \n",
    "        elif key < arr1[mid]:\n",
    "            high=mid-1\n",
    "            \n",
    "        else:\n",
    "            return -1\n",
    "    return -1\n",
    "\n",
    "\n",
    "arr1=[2,3,4,5,6]\n",
    "x=5\n",
    "\n",
    "# function call\n",
    "result= binary_search(arr1,x)\n",
    "\n",
    "if result != -1:\n",
    "    print(\"element found at index\", str(result))\n",
    "    \n",
    "else:\n",
    "    print(\"element not found\")\n",
    "    \n",
    "# tIME COMPLEXITY WILL BE O(logn)"
   ]
  },
  {
   "cell_type": "code",
   "execution_count": 52,
   "id": "e9b4eae8",
   "metadata": {},
   "outputs": [],
   "source": [
    "# BINARY SEARCH RECURSIVE METHOD\n",
    "\n",
    "\n",
    "\n"
   ]
  },
  {
   "cell_type": "code",
   "execution_count": 78,
   "id": "9f04da2d",
   "metadata": {},
   "outputs": [
    {
     "data": {
      "text/plain": [
       "6"
      ]
     },
     "execution_count": 78,
     "metadata": {},
     "output_type": "execute_result"
    }
   ],
   "source": [
    "def binary_recursive_search(A,key,low,high):\n",
    "    \n",
    "    #low=0;\n",
    "    #high=len(A)-1\n",
    "    mid=0\n",
    "    \n",
    "    if low>high:\n",
    "        return \"element not found\"\n",
    "    \n",
    "    else:\n",
    "        mid=(low+high) // 2\n",
    "        if key == A[mid]:\n",
    "            return mid\n",
    "        elif key>A[mid]:\n",
    "            return binary_recursive_search(A,key,mid+1,high)\n",
    "        elif key<A[mid]:\n",
    "            return binary_recursive_search(A,key,low,mid-1)\n",
    "   # return -1\n",
    "            \n",
    "A=[1,2,3,4,5,6,7,8]\n",
    "x=7\n",
    "  \n",
    "binary_recursive_search(A,x,0,len(A)-1)"
   ]
  },
  {
   "cell_type": "code",
   "execution_count": null,
   "id": "89188ef9",
   "metadata": {},
   "outputs": [],
   "source": []
  },
  {
   "cell_type": "code",
   "execution_count": null,
   "id": "20f90354",
   "metadata": {},
   "outputs": [],
   "source": []
  }
 ],
 "metadata": {
  "kernelspec": {
   "display_name": "Python 3 (ipykernel)",
   "language": "python",
   "name": "python3"
  },
  "language_info": {
   "codemirror_mode": {
    "name": "ipython",
    "version": 3
   },
   "file_extension": ".py",
   "mimetype": "text/x-python",
   "name": "python",
   "nbconvert_exporter": "python",
   "pygments_lexer": "ipython3",
   "version": "3.9.12"
  }
 },
 "nbformat": 4,
 "nbformat_minor": 5
}
