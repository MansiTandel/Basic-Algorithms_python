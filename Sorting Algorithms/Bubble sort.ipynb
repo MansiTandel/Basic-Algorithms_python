{
 "cells": [
  {
   "cell_type": "code",
   "execution_count": 1,
   "id": "61b2885e",
   "metadata": {},
   "outputs": [],
   "source": [
    "# BUBBLE SORT\n",
    "\n"
   ]
  },
  {
   "cell_type": "code",
   "execution_count": 18,
   "id": "2c11daea",
   "metadata": {},
   "outputs": [],
   "source": [
    "def bubblesort(A):\n",
    "    \n",
    "    n = len(A)\n",
    "    \n",
    "    for i in range(0,n-1):\n",
    "        \n",
    "        for j in range(0, n-i-1):  # -i as the last elements will always be sorted\n",
    "            \n",
    "            if A[j] > A[j+1]:\n",
    "                \n",
    "                # swap\n",
    "                \n",
    "                temp=A[j]\n",
    "                A[j]=A[j+1]\n",
    "                A[j+1]=temp"
   ]
  },
  {
   "cell_type": "code",
   "execution_count": 15,
   "id": "b75f7798",
   "metadata": {},
   "outputs": [],
   "source": [
    "A= [1,14,3,58,110,0]"
   ]
  },
  {
   "cell_type": "code",
   "execution_count": 16,
   "id": "badd35a9",
   "metadata": {},
   "outputs": [],
   "source": [
    "bubblesort(A)\n"
   ]
  },
  {
   "cell_type": "code",
   "execution_count": 17,
   "id": "b84fb6dc",
   "metadata": {},
   "outputs": [
    {
     "name": "stdout",
     "output_type": "stream",
     "text": [
      "[0, 1, 3, 14, 58, 110]\n"
     ]
    }
   ],
   "source": [
    "print(A)"
   ]
  },
  {
   "cell_type": "code",
   "execution_count": null,
   "id": "94737231",
   "metadata": {},
   "outputs": [],
   "source": []
  }
 ],
 "metadata": {
  "kernelspec": {
   "display_name": "Python 3 (ipykernel)",
   "language": "python",
   "name": "python3"
  },
  "language_info": {
   "codemirror_mode": {
    "name": "ipython",
    "version": 3
   },
   "file_extension": ".py",
   "mimetype": "text/x-python",
   "name": "python",
   "nbconvert_exporter": "python",
   "pygments_lexer": "ipython3",
   "version": "3.9.12"
  }
 },
 "nbformat": 4,
 "nbformat_minor": 5
}
