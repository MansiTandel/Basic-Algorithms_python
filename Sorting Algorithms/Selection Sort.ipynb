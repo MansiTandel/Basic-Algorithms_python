{
 "cells": [
  {
   "cell_type": "code",
   "execution_count": 1,
   "id": "fb0273d8",
   "metadata": {},
   "outputs": [],
   "source": [
    "# SELECTION SORT\n",
    "\n"
   ]
  },
  {
   "cell_type": "code",
   "execution_count": 30,
   "id": "483c9263",
   "metadata": {},
   "outputs": [],
   "source": [
    "def selection_sort(A):\n",
    "    \n",
    "    n= len(A)\n",
    "    \n",
    "    for i in range(0,n-1):  # loop to iterate for every i, the j loop iterates to find smaller element.\n",
    "        \n",
    "        min_index  = i    \n",
    "       # print(A[min_index])\n",
    "       # print(\"!\")\n",
    "         \n",
    "        for j in range(i+1, n):   # loop to check if there is any smaller element\n",
    "            \n",
    "            if A[j] < A [ min_index]:\n",
    "                min_index = j\n",
    "               # print(\"j loop\")\n",
    "               # print(A[min_index])\n",
    "                \n",
    "        temp = A[i]          # SWAP\n",
    "        A[i] = A[min_index]\n",
    "        A[min_index] = temp"
   ]
  },
  {
   "cell_type": "code",
   "execution_count": 31,
   "id": "9ad63e5d",
   "metadata": {},
   "outputs": [
    {
     "name": "stdout",
     "output_type": "stream",
     "text": [
      "[20, 12, 10, 15, 2]\n",
      "[2, 10, 12, 15, 20]\n"
     ]
    }
   ],
   "source": [
    "A=[20,12,10,15,2]\n",
    "print(A)\n",
    "selection_sort(A)\n",
    "print(A)"
   ]
  },
  {
   "cell_type": "code",
   "execution_count": null,
   "id": "ecb8801b",
   "metadata": {},
   "outputs": [],
   "source": []
  },
  {
   "cell_type": "code",
   "execution_count": null,
   "id": "3572d511",
   "metadata": {},
   "outputs": [],
   "source": []
  }
 ],
 "metadata": {
  "kernelspec": {
   "display_name": "Python 3 (ipykernel)",
   "language": "python",
   "name": "python3"
  },
  "language_info": {
   "codemirror_mode": {
    "name": "ipython",
    "version": 3
   },
   "file_extension": ".py",
   "mimetype": "text/x-python",
   "name": "python",
   "nbconvert_exporter": "python",
   "pygments_lexer": "ipython3",
   "version": "3.9.12"
  }
 },
 "nbformat": 4,
 "nbformat_minor": 5
}
