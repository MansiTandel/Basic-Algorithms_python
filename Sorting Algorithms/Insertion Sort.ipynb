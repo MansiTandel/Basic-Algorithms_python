{
 "cells": [
  {
   "cell_type": "code",
   "execution_count": 1,
   "id": "1cbeb756",
   "metadata": {},
   "outputs": [],
   "source": [
    "# INSERTION SORT\n",
    "\n",
    "\n",
    "\n"
   ]
  },
  {
   "cell_type": "code",
   "execution_count": 4,
   "id": "f72d1ad2",
   "metadata": {},
   "outputs": [],
   "source": [
    "def insertionsort(A):\n",
    "    \n",
    "    n = len(A)\n",
    "    \n",
    "    # We start from 1 since the first element is trivially sorted\n",
    "    \n",
    "    for i in range(1,n):\n",
    "        \n",
    "        currentvalue= A[i]\n",
    "        currentposition = i\n",
    "        \n",
    "        # As long as we haven't reached the beginning and there is an element\n",
    "        # in our sorted array larger than the one we're trying to insert - move\n",
    "        # that element to the right\n",
    "        \n",
    "        while currentposition > 0 and A[currentposition-1] > currentvalue:\n",
    "            A[currentposition] = A[currentposition-1]\n",
    "            currentposition=currentposition - 1\n",
    "            \n",
    "        A[currentposition] = currentvalue\n",
    "        \n",
    "        # We have either reached the beginning of the array or we have found\n",
    "        # an element of the sorted array that is smaller than the element\n",
    "        # we're trying to insert at index currentPosition - 1.\n",
    "        # Either way - we insert the element at currentPosition\n",
    "            "
   ]
  },
  {
   "cell_type": "code",
   "execution_count": 5,
   "id": "76d36ee5",
   "metadata": {},
   "outputs": [
    {
     "name": "stdout",
     "output_type": "stream",
     "text": [
      "[0, 3, 5, 11, 20, 78]\n"
     ]
    }
   ],
   "source": [
    "A=[20,3,0,5,11,78]\n",
    "insertionsort(A)\n",
    "print(A)"
   ]
  },
  {
   "cell_type": "code",
   "execution_count": null,
   "id": "90636855",
   "metadata": {},
   "outputs": [],
   "source": []
  }
 ],
 "metadata": {
  "kernelspec": {
   "display_name": "Python 3 (ipykernel)",
   "language": "python",
   "name": "python3"
  },
  "language_info": {
   "codemirror_mode": {
    "name": "ipython",
    "version": 3
   },
   "file_extension": ".py",
   "mimetype": "text/x-python",
   "name": "python",
   "nbconvert_exporter": "python",
   "pygments_lexer": "ipython3",
   "version": "3.9.12"
  }
 },
 "nbformat": 4,
 "nbformat_minor": 5
}
