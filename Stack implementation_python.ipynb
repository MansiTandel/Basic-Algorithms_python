{
 "cells": [
  {
   "cell_type": "code",
   "execution_count": 7,
   "id": "c87ebf8b",
   "metadata": {},
   "outputs": [],
   "source": [
    "# stacks using array\n",
    "\n",
    "class StacksArray:\n",
    "    \n",
    "    def __init__(self):\n",
    "        self._data = []  \n",
    "        #_data as the object of list class\n",
    "        \n",
    "    def __len__(self):\n",
    "        return len(self._data)\n",
    "    \n",
    "    def isempty(self):\n",
    "        return len(self._data)==0\n",
    "    \n",
    "    def push(self,e):  # e for element\n",
    "        self._data.append(e)\n",
    "        \n",
    "    def pop(self):\n",
    "        if self.isempty():\n",
    "            print(\"stack is empty\")\n",
    "        else:\n",
    "            return self._data.pop()\n",
    "        \n",
    "    def top(self):\n",
    "        if self.isempty():\n",
    "            print(\"stack is empty\")\n",
    "        else:\n",
    "            return self._data[-1]\n",
    "    def print(self):\n",
    "        return print(self._data)\n",
    "        \n",
    "stack1=StacksArray()  \n",
    "    "
   ]
  },
  {
   "cell_type": "code",
   "execution_count": 8,
   "id": "446fea3d",
   "metadata": {},
   "outputs": [],
   "source": [
    "stack1.push(5)"
   ]
  },
  {
   "cell_type": "code",
   "execution_count": 9,
   "id": "83d71475",
   "metadata": {},
   "outputs": [],
   "source": [
    "stack1.push(3)"
   ]
  },
  {
   "cell_type": "code",
   "execution_count": 11,
   "id": "1d3d43f8",
   "metadata": {},
   "outputs": [
    {
     "name": "stdout",
     "output_type": "stream",
     "text": [
      "[5, 3]\n"
     ]
    }
   ],
   "source": [
    "stack1.print()"
   ]
  },
  {
   "cell_type": "code",
   "execution_count": 14,
   "id": "ec48a71d",
   "metadata": {},
   "outputs": [
    {
     "data": {
      "text/plain": [
       "2"
      ]
     },
     "execution_count": 14,
     "metadata": {},
     "output_type": "execute_result"
    }
   ],
   "source": [
    "len(stack1)"
   ]
  },
  {
   "cell_type": "code",
   "execution_count": 15,
   "id": "9dbd7638",
   "metadata": {},
   "outputs": [
    {
     "data": {
      "text/plain": [
       "3"
      ]
     },
     "execution_count": 15,
     "metadata": {},
     "output_type": "execute_result"
    }
   ],
   "source": [
    "stack1.top()"
   ]
  },
  {
   "cell_type": "code",
   "execution_count": 16,
   "id": "f65d4d9b",
   "metadata": {},
   "outputs": [
    {
     "data": {
      "text/plain": [
       "3"
      ]
     },
     "execution_count": 16,
     "metadata": {},
     "output_type": "execute_result"
    }
   ],
   "source": [
    "stack1.pop()"
   ]
  },
  {
   "cell_type": "code",
   "execution_count": 17,
   "id": "872b49f7",
   "metadata": {},
   "outputs": [
    {
     "data": {
      "text/plain": [
       "<__main__.StacksArray at 0x1fbb7ae7b80>"
      ]
     },
     "execution_count": 17,
     "metadata": {},
     "output_type": "execute_result"
    }
   ],
   "source": [
    "stack1"
   ]
  },
  {
   "cell_type": "code",
   "execution_count": 18,
   "id": "da75a114",
   "metadata": {},
   "outputs": [
    {
     "name": "stdout",
     "output_type": "stream",
     "text": [
      "<__main__.StacksArray object at 0x000001FBB7AE7B80>\n"
     ]
    }
   ],
   "source": [
    "print(stack1)"
   ]
  },
  {
   "cell_type": "code",
   "execution_count": 19,
   "id": "d90ea4c5",
   "metadata": {},
   "outputs": [
    {
     "name": "stdout",
     "output_type": "stream",
     "text": [
      "[5]\n"
     ]
    }
   ],
   "source": [
    "stack1.print()"
   ]
  },
  {
   "cell_type": "code",
   "execution_count": 20,
   "id": "89be353c",
   "metadata": {},
   "outputs": [
    {
     "data": {
      "text/plain": [
       "False"
      ]
     },
     "execution_count": 20,
     "metadata": {},
     "output_type": "execute_result"
    }
   ],
   "source": [
    "stack1.isempty()"
   ]
  },
  {
   "cell_type": "code",
   "execution_count": 21,
   "id": "83067e16",
   "metadata": {},
   "outputs": [
    {
     "data": {
      "text/plain": [
       "5"
      ]
     },
     "execution_count": 21,
     "metadata": {},
     "output_type": "execute_result"
    }
   ],
   "source": [
    "stack1.pop()"
   ]
  },
  {
   "cell_type": "code",
   "execution_count": 22,
   "id": "1030d790",
   "metadata": {},
   "outputs": [
    {
     "name": "stdout",
     "output_type": "stream",
     "text": [
      "stack is empty\n"
     ]
    }
   ],
   "source": [
    "stack1.pop()"
   ]
  },
  {
   "cell_type": "code",
   "execution_count": 23,
   "id": "bc6803a0",
   "metadata": {},
   "outputs": [
    {
     "data": {
      "text/plain": [
       "True"
      ]
     },
     "execution_count": 23,
     "metadata": {},
     "output_type": "execute_result"
    }
   ],
   "source": [
    "stack1.isempty()"
   ]
  },
  {
   "cell_type": "code",
   "execution_count": null,
   "id": "a34e1597",
   "metadata": {},
   "outputs": [],
   "source": []
  },
  {
   "cell_type": "code",
   "execution_count": null,
   "id": "8d62644f",
   "metadata": {},
   "outputs": [],
   "source": []
  },
  {
   "cell_type": "code",
   "execution_count": null,
   "id": "c0a1e601",
   "metadata": {},
   "outputs": [],
   "source": []
  },
  {
   "cell_type": "code",
   "execution_count": 3,
   "id": "60a9eade",
   "metadata": {},
   "outputs": [
    {
     "name": "stdout",
     "output_type": "stream",
     "text": [
      "pushed item: 1\n",
      "pushed item: 2\n",
      "pushed item: 3\n",
      "pushed item: 4\n",
      "popped item: 4\n",
      "stack after popping an element: ['1', '2', '3']\n"
     ]
    }
   ],
   "source": [
    "# stack using arrays 2nd\n",
    "\n",
    "# Creating a stack\n",
    "def create_stack():\n",
    "    stack = []        # a list\n",
    "    return stack\n",
    "\n",
    "\n",
    "# Creating an empty stack\n",
    "def check_empty(stack):\n",
    "    return len(stack) == 0\n",
    "\n",
    "\n",
    "# Adding items into the stack\n",
    "def push(stack, item):\n",
    "    stack.append(item)\n",
    "    print(\"pushed item: \" + item)\n",
    "\n",
    "\n",
    "# Removing an element from the stack\n",
    "def pop(stack):\n",
    "    if (check_empty(stack)):\n",
    "        return \"stack is empty\"\n",
    "\n",
    "    return stack.pop()\n",
    "\n",
    "\n",
    "stack = create_stack()\n",
    "push(stack, str(1))\n",
    "push(stack, str(2))\n",
    "push(stack, str(3))\n",
    "push(stack, str(4))\n",
    "print(\"popped item: \" + pop(stack))\n",
    "print(\"stack after popping an element: \" + str(stack))"
   ]
  },
  {
   "cell_type": "code",
   "execution_count": null,
   "id": "9cce1190",
   "metadata": {},
   "outputs": [],
   "source": []
  },
  {
   "cell_type": "code",
   "execution_count": 24,
   "id": "7c30d91b",
   "metadata": {},
   "outputs": [],
   "source": []
  },
  {
   "cell_type": "code",
   "execution_count": 3,
   "id": "7d337825",
   "metadata": {},
   "outputs": [],
   "source": [
    "# stack using Linked List\n",
    "\n",
    "\n"
   ]
  },
  {
   "cell_type": "code",
   "execution_count": 20,
   "id": "3f05f986",
   "metadata": {},
   "outputs": [],
   "source": [
    "class _Node:\n",
    "    __slots__ = \"_element\",\"_next\"\n",
    "    \n",
    "    def __init__(self,element,next):\n",
    "        self._element=element\n",
    "        self._next=next\n",
    "        \n",
    "class StacksLinked:\n",
    "    \n",
    "    def __init__(self):\n",
    "        self._top=None\n",
    "        self._size=0\n",
    "        \n",
    "    def __len__(self):\n",
    "        return self._size\n",
    "    \n",
    "    def isempty(self):\n",
    "        return self._size==0\n",
    "    \n",
    "    def push(self,e):\n",
    "        newest=_Node(e,None)\n",
    "        \n",
    "        if self.isempty():\n",
    "            self._top=newest\n",
    "            \n",
    "        else:\n",
    "            newest._next=self._top\n",
    "            self._top=newest\n",
    "            \n",
    "        self._size = self._size + 1\n",
    "        \n",
    "    def pop(self):\n",
    "        if self.isempty():\n",
    "            print('Stack is empty')\n",
    "            return\n",
    "        e = self._top._element\n",
    "        self._top = self._top._next\n",
    "        self._size -= 1\n",
    "        return e\n",
    "         \n",
    "    \n",
    "    def top(self):\n",
    "        if self.isempty():\n",
    "            print('Stack is empty')\n",
    "            return\n",
    "        return self._top._element\n",
    "    \n",
    "    def displaystack(self):\n",
    "        p=self._top\n",
    "        while p:\n",
    "            print(p._element,end=\"--->\")\n",
    "            p=p._next\n",
    "        print()\n",
    "        "
   ]
  },
  {
   "cell_type": "code",
   "execution_count": 21,
   "id": "ffd61687",
   "metadata": {},
   "outputs": [
    {
     "name": "stdout",
     "output_type": "stream",
     "text": [
      "2\n",
      "3--->5--->\n",
      "3\n",
      "False\n",
      "5\n",
      "True\n",
      "9\n",
      "3\n",
      "4\n",
      "8\n"
     ]
    }
   ],
   "source": [
    "S = StacksLinked()\n",
    "S.push(5)\n",
    "S.push(3)\n",
    "print(len(S))\n",
    "S.displaystack()\n",
    "print(S.pop())\n",
    "print(S.isempty())\n",
    "\n",
    "print(S.pop())\n",
    "print(S.isempty())\n",
    "S.push(7)\n",
    "S.push(9)\n",
    "print(S.top())\n",
    "S.push(4)\n",
    "print(len(S))\n",
    "print(S.pop())\n",
    "S.push(6)\n",
    "S.push(8)\n",
    "print(S.pop())"
   ]
  },
  {
   "cell_type": "code",
   "execution_count": null,
   "id": "cb354596",
   "metadata": {},
   "outputs": [],
   "source": []
  }
 ],
 "metadata": {
  "kernelspec": {
   "display_name": "Python 3 (ipykernel)",
   "language": "python",
   "name": "python3"
  },
  "language_info": {
   "codemirror_mode": {
    "name": "ipython",
    "version": 3
   },
   "file_extension": ".py",
   "mimetype": "text/x-python",
   "name": "python",
   "nbconvert_exporter": "python",
   "pygments_lexer": "ipython3",
   "version": "3.9.12"
  }
 },
 "nbformat": 4,
 "nbformat_minor": 5
}
