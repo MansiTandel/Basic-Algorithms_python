{
 "cells": [
  {
   "cell_type": "code",
   "execution_count": 1,
   "id": "5fa7b172",
   "metadata": {},
   "outputs": [],
   "source": [
    "# DOUBLY LINKED LIST\n",
    "\n",
    "\n",
    "\n",
    "\n"
   ]
  },
  {
   "cell_type": "code",
   "execution_count": 37,
   "id": "6a431787",
   "metadata": {},
   "outputs": [],
   "source": [
    "class _Node:\n",
    "    __slots__=\"_element\",\"_next\",\"_prev\"\n",
    "    \n",
    "    def __init__(self,element,next,prev):\n",
    "        self._element=element\n",
    "        self._next=next\n",
    "        self._prev=prev\n",
    "        \n",
    "class DoublyLinkedList:\n",
    "    \n",
    "    def __init__(self):\n",
    "        self._head=None\n",
    "        self._tail=None\n",
    "        self._size=0\n",
    "        \n",
    "    def __len__(self):\n",
    "        return self._size\n",
    "    \n",
    "    def isempty(self):\n",
    "        return self._size == 0\n",
    "    \n",
    "    def addlast(self,e):\n",
    "        newest = _Node(e,None,None)\n",
    "        \n",
    "        if self.isempty():\n",
    "            self._head=newest\n",
    "            self._tail=newest\n",
    "            \n",
    "        else:\n",
    "            self._tail._next=newest\n",
    "            newest._prev=self._tail\n",
    "            self._tail=newest\n",
    "            \n",
    "        self._size=self._size+1\n",
    "        \n",
    "    def addfirst(self,e):\n",
    "        newest=_Node(e,None,None)\n",
    "        \n",
    "        if self.isempty():\n",
    "            self._head=newest\n",
    "            self._tail=newest\n",
    "            \n",
    "        else:   \n",
    "            newest._next=self._head\n",
    "            self._head._prev = newest\n",
    "            self._head=newest\n",
    "            \n",
    "        self._size=self._size+1\n",
    "        \n",
    "    def addany(self,e,position):\n",
    "        newest=_Node(e,None,None)\n",
    "        p=self._head\n",
    "        i=1\n",
    "        \n",
    "        while i<position-1:\n",
    "            p=p._next\n",
    "            i=i+1\n",
    "            \n",
    "        newest._next=p._next\n",
    "        p._next._prev=newest\n",
    "        p._next=newest\n",
    "        newest._prev=p\n",
    "        \n",
    "        self._size=self._size+1\n",
    "        \n",
    "    def removefirst(self):\n",
    "        if self.isempty():\n",
    "            print(\"List is empty so cannot remove any node\")\n",
    "            return\n",
    "        \n",
    "        ele=self._head._element\n",
    "        self._head=self._head._next\n",
    "        self._prev=None\n",
    "        self._size = self._size - 1\n",
    "        \n",
    "        if self.isempty():\n",
    "            self._tail=None\n",
    "        return ele\n",
    "    \n",
    "    def removelast(self):\n",
    "        if self.isempty():\n",
    "            print(\"List is empty so cannot remove any node\")\n",
    "            return\n",
    "        \n",
    "        ele= self._tail._element\n",
    "        self._tail=self._tail._prev\n",
    "        self._tail._next=None\n",
    "        self._size = self._size - 1\n",
    "        return ele\n",
    "    \n",
    "    def removeany(self,position):\n",
    "        p=self._head\n",
    "        i=1\n",
    "        \n",
    "        while i<position-1 :\n",
    "            p=p._next\n",
    "            i=i+1\n",
    "            \n",
    "        ele = p._next._element\n",
    "        p._next=p._next._next\n",
    "        p._next._prev=p\n",
    "        self._size = self._size - 1\n",
    "        \n",
    "        return ele\n",
    "        \n",
    "    def display(self):\n",
    "                \n",
    "                p=self._head\n",
    "                \n",
    "                while p:\n",
    "                    print(p._element,end=\"-->\")\n",
    "                    p=p._next\n",
    "                print() # to have formatted output\n",
    "                \n",
    "    def displayrev(self):\n",
    "                p=self._tail\n",
    "                \n",
    "                while p:\n",
    "                    print(p._element,end=\"-->\")\n",
    "                    p=p._prev\n",
    "                print()\n",
    "                "
   ]
  },
  {
   "cell_type": "code",
   "execution_count": 49,
   "id": "8d87574e",
   "metadata": {},
   "outputs": [
    {
     "name": "stdout",
     "output_type": "stream",
     "text": [
      "7-->4-->12-->\n",
      "size= 3\n",
      "12-->4-->7-->\n",
      "1-->7-->4-->12-->\n",
      "size= 4\n",
      "11-->1-->7-->4-->12-->\n",
      "size= 5\n",
      "111-->11-->1-->7-->4-->12-->\n",
      "size= 6\n"
     ]
    }
   ],
   "source": [
    "DL = DoublyLinkedList()\n",
    "DL.addlast(7)\n",
    "DL.addlast(4)\n",
    "DL.addlast(12)\n",
    "DL.display()\n",
    "print(\"size=\",len(DL))\n",
    "DL.displayrev()\n",
    "DL.addfirst(1)\n",
    "DL.display()\n",
    "print(\"size=\",len(DL))\n",
    "DL.addfirst(11)\n",
    "DL.display()\n",
    "print(\"size=\",len(DL))\n",
    "DL.addfirst(111)\n",
    "DL.display()\n",
    "print(\"size=\",len(DL))\n"
   ]
  },
  {
   "cell_type": "code",
   "execution_count": 50,
   "id": "1bedd28e",
   "metadata": {},
   "outputs": [],
   "source": [
    "DL.addany(0,4)"
   ]
  },
  {
   "cell_type": "code",
   "execution_count": 51,
   "id": "c5089ce9",
   "metadata": {},
   "outputs": [
    {
     "name": "stdout",
     "output_type": "stream",
     "text": [
      "111-->11-->1-->0-->7-->4-->12-->\n"
     ]
    }
   ],
   "source": [
    "DL.display()"
   ]
  },
  {
   "cell_type": "code",
   "execution_count": 52,
   "id": "56ca1503",
   "metadata": {},
   "outputs": [
    {
     "name": "stdout",
     "output_type": "stream",
     "text": [
      "11-->1-->0-->7-->4-->12-->\n"
     ]
    }
   ],
   "source": [
    "ele=DL.removefirst()\n",
    "DL.display()\n",
    "\n"
   ]
  },
  {
   "cell_type": "code",
   "execution_count": 53,
   "id": "b0136979",
   "metadata": {},
   "outputs": [
    {
     "name": "stdout",
     "output_type": "stream",
     "text": [
      "11-->1-->0-->7-->4-->\n",
      "removed= 12\n"
     ]
    }
   ],
   "source": [
    "ele1=DL.removelast()\n",
    "DL.display()\n",
    "print(\"removed=\",ele1)"
   ]
  },
  {
   "cell_type": "code",
   "execution_count": 54,
   "id": "619380c7",
   "metadata": {},
   "outputs": [
    {
     "name": "stdout",
     "output_type": "stream",
     "text": [
      "11-->1-->7-->4-->\n",
      "removed= 0\n"
     ]
    }
   ],
   "source": [
    "ele2=DL.removeany(3)\n",
    "DL.display()\n",
    "print(\"removed=\",ele2)"
   ]
  },
  {
   "cell_type": "code",
   "execution_count": 55,
   "id": "edb0e8d3",
   "metadata": {},
   "outputs": [
    {
     "data": {
      "text/plain": [
       "False"
      ]
     },
     "execution_count": 55,
     "metadata": {},
     "output_type": "execute_result"
    }
   ],
   "source": [
    "DL.isempty()"
   ]
  },
  {
   "cell_type": "code",
   "execution_count": 58,
   "id": "d69d1d0c",
   "metadata": {},
   "outputs": [
    {
     "data": {
      "text/plain": [
       "4"
      ]
     },
     "execution_count": 58,
     "metadata": {},
     "output_type": "execute_result"
    }
   ],
   "source": [
    "len(DL)"
   ]
  },
  {
   "cell_type": "code",
   "execution_count": null,
   "id": "ae74a6f5",
   "metadata": {},
   "outputs": [],
   "source": []
  }
 ],
 "metadata": {
  "kernelspec": {
   "display_name": "Python 3 (ipykernel)",
   "language": "python",
   "name": "python3"
  },
  "language_info": {
   "codemirror_mode": {
    "name": "ipython",
    "version": 3
   },
   "file_extension": ".py",
   "mimetype": "text/x-python",
   "name": "python",
   "nbconvert_exporter": "python",
   "pygments_lexer": "ipython3",
   "version": "3.9.12"
  }
 },
 "nbformat": 4,
 "nbformat_minor": 5
}
