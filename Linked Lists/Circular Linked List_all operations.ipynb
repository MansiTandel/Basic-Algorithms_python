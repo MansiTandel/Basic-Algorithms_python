{
 "cells": [
  {
   "cell_type": "code",
   "execution_count": 1,
   "id": "b48c1b0e",
   "metadata": {},
   "outputs": [],
   "source": [
    "# CIRCULAR lINKED LIST\n",
    "\n",
    "\n",
    "\n",
    "\n",
    "\n"
   ]
  },
  {
   "cell_type": "code",
   "execution_count": 60,
   "id": "f96a3750",
   "metadata": {},
   "outputs": [],
   "source": [
    "class _Node:\n",
    "    __slots__=\"_element\",\"_next\"\n",
    "    \n",
    "    def __init__(self,element,next):\n",
    "        self._element=element\n",
    "        self._next=next\n",
    "        # self._size=._size\n",
    "    \n",
    "class circularLinkedList:\n",
    "    \n",
    "    def __init__(self):\n",
    "        self._head=None\n",
    "        self._tail=None\n",
    "        self._size=0\n",
    "        \n",
    "    def __len__(self):\n",
    "        return self._size\n",
    "    \n",
    "    def isempty(self):\n",
    "        return self._size==0\n",
    "    \n",
    "    def addfirst(self,e):\n",
    "        newest=_Node(e, None)\n",
    "        \n",
    "        if self.isempty():\n",
    "            self._head=newest\n",
    "            self._tail=newest\n",
    "            newest._next=newest\n",
    "            \n",
    "        else:\n",
    "            self._tail._next=newest\n",
    "            newest._next=self.head\n",
    "            self._head=newest\n",
    "            \n",
    "        self._size=self._size+1\n",
    "        \n",
    "    def addlast(self,e):  \n",
    "        newest=_Node(e,None)\n",
    "        \n",
    "        if self.isempty():\n",
    "            newest._next=newest\n",
    "            self._head=newest\n",
    "            self._tail=newest\n",
    "            \n",
    "        else:\n",
    "            newest._next=self._tail._next\n",
    "            self._tail._next = newest\n",
    "            self._tail=newest\n",
    "        self._size=self._size + 1\n",
    "        \n",
    "    def addany(self,ele,position):\n",
    "        newest = _Node(ele,None)\n",
    "        \n",
    "        p=self._head\n",
    "        i=1\n",
    "        \n",
    "        while i < position-1:\n",
    "            p=p._next   # traverse till position-1...before\n",
    "            i = i + 1\n",
    "        \n",
    "        newest._next=p._next\n",
    "        p._next=newest\n",
    "        self._size = self._size + 1\n",
    "        \n",
    "    def removefirst(self):\n",
    "        if self.isempty():\n",
    "            print('List is empty so cannot remove')\n",
    "            return\n",
    "        ele = self._head\n",
    "        self._tail._next=self._head._next\n",
    "        self._head=self._head._next\n",
    "        \n",
    "        self._size=self._size -  1\n",
    "        \n",
    "        if self.isempty():\n",
    "            self._head=None\n",
    "            self._tail=None\n",
    "        return ele\n",
    "    \n",
    "    def removelast(self):\n",
    "        \n",
    "        if self.isempty():\n",
    "            print('List is empty so cannot remove')\n",
    "            return\n",
    "        \n",
    "        p = self._head\n",
    "        i=1\n",
    "        \n",
    "        while i< len(self)-1:\n",
    "            p=p._next\n",
    "            i = i + 1\n",
    "            \n",
    "        self._tail=p\n",
    "        self._tail._next=self._head\n",
    "        p = p._next # try removing this to see the difference\n",
    "        #print(p)\n",
    "        ele=p._element  #  to get the removed element\n",
    "        self._size=self._size -  1\n",
    "        return ele\n",
    "    \n",
    "    def removeany(self,position):\n",
    "        p=self._head\n",
    "        i=1\n",
    "        \n",
    "        while i<position-1:\n",
    "            p=p._next\n",
    "            i=i+1\n",
    "            \n",
    "        ele=p._next._element\n",
    "        \n",
    "        p._next=p._next._next\n",
    "        self._size=self._size -  1\n",
    "        return ele\n",
    "    \n",
    "    def display(self):\n",
    "        \n",
    "        p=self._head\n",
    "        i=0\n",
    "        \n",
    "        while i<len(self):\n",
    "            \n",
    "            print(p._element,end=\"-->\")\n",
    "            p=p._next\n",
    "            i=i+1\n",
    "            \n",
    "    def search(self,key):\n",
    "        p = self._head\n",
    "        index = 0\n",
    "        while index < len(self):\n",
    "            if p._element == key:\n",
    "                return index\n",
    "            p = p._next\n",
    "            index = index + 1\n",
    "        return -1"
   ]
  },
  {
   "cell_type": "code",
   "execution_count": 61,
   "id": "aaf60f7e",
   "metadata": {},
   "outputs": [
    {
     "data": {
      "text/plain": [
       "__main__.circularLinkedList"
      ]
     },
     "execution_count": 61,
     "metadata": {},
     "output_type": "execute_result"
    }
   ],
   "source": [
    "circularLinkedList "
   ]
  },
  {
   "cell_type": "code",
   "execution_count": 62,
   "id": "7d9fd274",
   "metadata": {},
   "outputs": [],
   "source": [
    "C1=circularLinkedList()"
   ]
  },
  {
   "cell_type": "code",
   "execution_count": 63,
   "id": "21c6c7f7",
   "metadata": {},
   "outputs": [
    {
     "name": "stdout",
     "output_type": "stream",
     "text": [
      "1-->"
     ]
    }
   ],
   "source": [
    "C1.addfirst(1)\n",
    "C1.display()"
   ]
  },
  {
   "cell_type": "code",
   "execution_count": 64,
   "id": "afd87c94",
   "metadata": {},
   "outputs": [
    {
     "name": "stdout",
     "output_type": "stream",
     "text": [
      "1-->2-->"
     ]
    }
   ],
   "source": [
    "C1.addlast(2)\n",
    "C1.display()"
   ]
  },
  {
   "cell_type": "code",
   "execution_count": 65,
   "id": "61ebdd2a",
   "metadata": {},
   "outputs": [
    {
     "name": "stdout",
     "output_type": "stream",
     "text": [
      "1-->5-->2-->"
     ]
    }
   ],
   "source": [
    "C1.addany(5,2)\n",
    "C1.display()"
   ]
  },
  {
   "cell_type": "code",
   "execution_count": 66,
   "id": "34e36d85",
   "metadata": {},
   "outputs": [
    {
     "name": "stdout",
     "output_type": "stream",
     "text": [
      "1-->5-->"
     ]
    }
   ],
   "source": [
    "C1.removelast()\n",
    "C1.display()"
   ]
  },
  {
   "cell_type": "code",
   "execution_count": null,
   "id": "4f0304d6",
   "metadata": {},
   "outputs": [],
   "source": []
  },
  {
   "cell_type": "code",
   "execution_count": null,
   "id": "56f63443",
   "metadata": {},
   "outputs": [],
   "source": []
  }
 ],
 "metadata": {
  "kernelspec": {
   "display_name": "Python 3 (ipykernel)",
   "language": "python",
   "name": "python3"
  },
  "language_info": {
   "codemirror_mode": {
    "name": "ipython",
    "version": 3
   },
   "file_extension": ".py",
   "mimetype": "text/x-python",
   "name": "python",
   "nbconvert_exporter": "python",
   "pygments_lexer": "ipython3",
   "version": "3.9.12"
  }
 },
 "nbformat": 4,
 "nbformat_minor": 5
}
