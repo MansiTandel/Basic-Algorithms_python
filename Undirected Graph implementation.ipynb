{
 "cells": [
  {
   "cell_type": "code",
   "execution_count": 3,
   "id": "5722309e",
   "metadata": {},
   "outputs": [
    {
     "name": "stdout",
     "output_type": "stream",
     "text": [
      "[[0. 0. 0. 0.]\n",
      " [0. 0. 0. 0.]\n",
      " [0. 0. 0. 0.]\n",
      " [0. 0. 0. 0.]]\n",
      "vertices: 4\n",
      "edges: 0\n"
     ]
    }
   ],
   "source": [
    "# Implement graph ADT   Undirected Graph Implementation\n",
    "import numpy as np\n",
    "                          \n",
    "class Graph:\n",
    "    def __init__(self, vertices):\n",
    "        self._vertices = vertices\n",
    "        self._adjmat = np.zeros((vertices, vertices))\n",
    "        \n",
    "    def insert_edge(self, u, v, x=1):\n",
    "        self._adjmat[u][v] = x  # x= cost/weight\n",
    "        \n",
    "    def remove_edge(self, u, v):\n",
    "        self._adjmat[u][v] = 0 # assign 0 to remove\n",
    "        \n",
    "    def exist_edge(self, u, v):\n",
    "        return self._adjmat[u][v] != 0\n",
    "    \n",
    "    def vertex_count(self):\n",
    "        return self._vertices\n",
    "    \n",
    "    def edge_count(self):\n",
    "        count = 0\n",
    "        for i in range(self._vertices):\n",
    "            for j in range(self._vertices):\n",
    "                if self._adjmat[i][j] != 0:\n",
    "                    count = count + 1\n",
    "        return count\n",
    "    \n",
    "    def vertices(self):\n",
    "        for i in range(self._vertices):\n",
    "            print(i,end=\" \")\n",
    "        print()\n",
    "        \n",
    "    def edges(self):\n",
    "        for i in range(self._vertices):\n",
    "            for j in range(self._vertices):\n",
    "                if self._adjmat[i][j] != 0:\n",
    "                    print(i,\"--\",j)\n",
    "                    \n",
    "    def outdegree(self,v):\n",
    "        count = 0\n",
    "        for j in range(self._vertices):\n",
    "                if self._adjmat[v][j] != 0:\n",
    "                    count = count + 1\n",
    "        return count\n",
    "    \n",
    "    def indegree(self, v):\n",
    "        count =0\n",
    "        for i in range(self._vertices):\n",
    "            if self._adjmat[i][v] != 0:\n",
    "                count = count+1\n",
    "        return count\n",
    "    \n",
    "    def display_adjmat(self):\n",
    "        print(self._adjmat)\n",
    "        \n",
    "# Undirected Graph\n",
    "\n",
    "G = Graph(4)     # 4 nodes so 4*4 matrix\n",
    "G.display_adjmat()\n",
    "print(\"vertices:\",G.vertex_count())\n",
    "print(\"edges:\",G.edge_count())\n",
    "\n",
    "                    \n",
    "        \n",
    "    \n",
    "    \n",
    "        \n",
    "        "
   ]
  },
  {
   "cell_type": "code",
   "execution_count": 6,
   "id": "f4029022",
   "metadata": {},
   "outputs": [
    {
     "name": "stdout",
     "output_type": "stream",
     "text": [
      "[[0. 1. 1. 0.]\n",
      " [1. 0. 1. 0.]\n",
      " [1. 1. 0. 1.]\n",
      " [0. 0. 1. 0.]]\n",
      "vertices: 4\n",
      "edges: 8\n"
     ]
    }
   ],
   "source": [
    "G.insert_edge(0,1)\n",
    "G.insert_edge(0,2)\n",
    "G.insert_edge(1,0)\n",
    "G.insert_edge(1,2)\n",
    "G.insert_edge(2,0)\n",
    "G.insert_edge(2,1)\n",
    "G.insert_edge(2,3)\n",
    "G.insert_edge(3,2)\n",
    "G.display_adjmat()\n",
    "print(\"vertices:\",G.vertex_count())\n",
    "print(\"edges:\",G.edge_count())\n"
   ]
  },
  {
   "cell_type": "code",
   "execution_count": 7,
   "id": "f4acfa29",
   "metadata": {},
   "outputs": [
    {
     "name": "stdout",
     "output_type": "stream",
     "text": [
      "0 -- 1\n",
      "0 -- 2\n",
      "1 -- 0\n",
      "1 -- 2\n",
      "2 -- 0\n",
      "2 -- 1\n",
      "2 -- 3\n",
      "3 -- 2\n"
     ]
    }
   ],
   "source": [
    "G.edges()"
   ]
  },
  {
   "cell_type": "code",
   "execution_count": 11,
   "id": "3559a550",
   "metadata": {},
   "outputs": [
    {
     "name": "stdout",
     "output_type": "stream",
     "text": [
      "edge between 3 and 1 ?  False\n"
     ]
    }
   ],
   "source": [
    "print(\"edge between 3 and 1 ? \",G.exist_edge(3,1))"
   ]
  },
  {
   "cell_type": "code",
   "execution_count": 12,
   "id": "75ba9d52",
   "metadata": {},
   "outputs": [
    {
     "name": "stdout",
     "output_type": "stream",
     "text": [
      "Degree 3\n"
     ]
    }
   ],
   "source": [
    "print(\"Degree\",G.indegree(2))"
   ]
  },
  {
   "cell_type": "code",
   "execution_count": 13,
   "id": "37103469",
   "metadata": {},
   "outputs": [],
   "source": [
    "G.remove_edge(1,2)"
   ]
  },
  {
   "cell_type": "code",
   "execution_count": 14,
   "id": "9b29f3e1",
   "metadata": {},
   "outputs": [
    {
     "name": "stdout",
     "output_type": "stream",
     "text": [
      "edge between 1 and 2 ?  False\n"
     ]
    }
   ],
   "source": [
    "print(\"edge between 1 and 2 ? \",G.exist_edge(1,2))"
   ]
  },
  {
   "cell_type": "code",
   "execution_count": null,
   "id": "93c90a86",
   "metadata": {},
   "outputs": [],
   "source": []
  }
 ],
 "metadata": {
  "kernelspec": {
   "display_name": "Python 3 (ipykernel)",
   "language": "python",
   "name": "python3"
  },
  "language_info": {
   "codemirror_mode": {
    "name": "ipython",
    "version": 3
   },
   "file_extension": ".py",
   "mimetype": "text/x-python",
   "name": "python",
   "nbconvert_exporter": "python",
   "pygments_lexer": "ipython3",
   "version": "3.9.13"
  }
 },
 "nbformat": 4,
 "nbformat_minor": 5
}
