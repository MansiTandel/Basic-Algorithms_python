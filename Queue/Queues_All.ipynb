{
 "cells": [
  {
   "cell_type": "code",
   "execution_count": 1,
   "id": "fe88bc27",
   "metadata": {},
   "outputs": [],
   "source": [
    "# QUEUES USING ARRAYS\n",
    "\n",
    "\n",
    "\n",
    "\n"
   ]
  },
  {
   "cell_type": "code",
   "execution_count": 10,
   "id": "1bd6d64b",
   "metadata": {},
   "outputs": [
    {
     "name": "stdout",
     "output_type": "stream",
     "text": [
      "[5, 3, 8, 9, 10]\n",
      "length is 5\n",
      "[3, 8, 9, 10]\n",
      "3\n"
     ]
    }
   ],
   "source": [
    "class QueuesArray:\n",
    "    \n",
    "    def __init__(self):\n",
    "        self._data=[]\n",
    "     \n",
    "    def __len__(self):\n",
    "        return len(self._data)\n",
    "    \n",
    "    def isempty(self):\n",
    "        return len(self._data)==0\n",
    "    \n",
    "    def enqueue(self,e):\n",
    "        self._data.append(e)\n",
    "        \n",
    "    def dequeue(self):\n",
    "        if self.isempty():\n",
    "            print(\"queue is empty\")\n",
    "            return\n",
    "        return self._data.pop(0)\n",
    "    \n",
    "    def first(self):\n",
    "        if self.isempty():\n",
    "            print(\"queue is empty\")\n",
    "            return\n",
    "        return self._data[0]\n",
    "    \n",
    "Q1=QueuesArray()\n",
    "Q1.enqueue(5)\n",
    "Q1.enqueue(3)\n",
    "Q1.enqueue(8)\n",
    "Q1.enqueue(9)\n",
    "Q1.enqueue(10)\n",
    "print(Q1._data)\n",
    "print(f\"length is {len(Q1)}\")\n",
    "\n",
    "Q1.dequeue()\n",
    "print(Q1._data)\n",
    "\n",
    "Q1.isempty()\n",
    "print(Q1.first())"
   ]
  },
  {
   "cell_type": "code",
   "execution_count": null,
   "id": "4dced5fb",
   "metadata": {},
   "outputs": [],
   "source": []
  },
  {
   "cell_type": "code",
   "execution_count": 11,
   "id": "92e15318",
   "metadata": {},
   "outputs": [],
   "source": [
    "# QUEUE USING LINKED LISTS\n",
    "\n",
    "\n",
    "\n",
    "\n"
   ]
  },
  {
   "cell_type": "code",
   "execution_count": 19,
   "id": "095e5345",
   "metadata": {},
   "outputs": [
    {
     "name": "stdout",
     "output_type": "stream",
     "text": [
      "10<--20<--30<--40<--50<--\n",
      "length is: 5\n",
      "dequeued element is: 10\n",
      "20<--30<--40<--50<--\n",
      "first element is: 20\n",
      "20<--30<--40<--50<--\n"
     ]
    }
   ],
   "source": [
    "class _Node:\n",
    "    __slots__=\"_element\",\"_next\"\n",
    "    \n",
    "    def __init__(self,element,next):\n",
    "        self._element=element\n",
    "        self._next=next\n",
    "        \n",
    "class QueuesLinked:\n",
    "    \n",
    "    def __init__(self):\n",
    "        self._front = None\n",
    "        self._rear = None\n",
    "        self._size = 0\n",
    "        \n",
    "    def __len__(self):\n",
    "        return self._size\n",
    "    \n",
    "    def isempty(self):\n",
    "        return self._size==0\n",
    "    \n",
    "    def enqueue(self,e):\n",
    "        newest=_Node(e,None)\n",
    "        if self.isempty():\n",
    "            self._front=newest\n",
    "        else:\n",
    "            self._rear._next=newest\n",
    "        self._rear=newest\n",
    "        self._size=self._size+1\n",
    "        \n",
    "    def dequeue(self):\n",
    "        if self.isempty():\n",
    "            print(\"empty\")\n",
    "            return\n",
    "        ele=self._front._element\n",
    "        self._front=self._front._next\n",
    "        self._size = self._size - 1\n",
    "        \n",
    "        if self.isempty():\n",
    "            self._rear=None\n",
    "            \n",
    "        return ele\n",
    "    \n",
    "    def first(self):\n",
    "        if self.isempty():\n",
    "            print(\"empty\")\n",
    "            return\n",
    "        return self._front._element\n",
    "    \n",
    "    def display(self):\n",
    "        p=self._front\n",
    "        while p:\n",
    "            print(p._element,end=\"<--\")\n",
    "            p=p._next\n",
    "            \n",
    "        print()\n",
    "        \n",
    "Q2=QueuesLinked()\n",
    "Q2.enqueue(10)\n",
    "Q2.enqueue(20)\n",
    "Q2.enqueue(30)\n",
    "Q2.enqueue(40)\n",
    "Q2.enqueue(50)\n",
    "\n",
    "Q2.display()\n",
    "print(f\"length is: {len(Q2)}\")\n",
    "\n",
    "rem=Q2.dequeue()\n",
    "print(f\"dequeued element is: {rem}\")\n",
    "Q2.display()\n",
    "\n",
    "firstelement=Q2.first()\n",
    "print(f\"first element is: {firstelement}\")\n",
    "Q2.display()\n",
    "\n",
    "        "
   ]
  },
  {
   "cell_type": "code",
   "execution_count": null,
   "id": "66293d7d",
   "metadata": {},
   "outputs": [],
   "source": []
  },
  {
   "cell_type": "code",
   "execution_count": null,
   "id": "9a7cafa4",
   "metadata": {},
   "outputs": [],
   "source": []
  }
 ],
 "metadata": {
  "kernelspec": {
   "display_name": "Python 3 (ipykernel)",
   "language": "python",
   "name": "python3"
  },
  "language_info": {
   "codemirror_mode": {
    "name": "ipython",
    "version": 3
   },
   "file_extension": ".py",
   "mimetype": "text/x-python",
   "name": "python",
   "nbconvert_exporter": "python",
   "pygments_lexer": "ipython3",
   "version": "3.9.12"
  }
 },
 "nbformat": 4,
 "nbformat_minor": 5
}
