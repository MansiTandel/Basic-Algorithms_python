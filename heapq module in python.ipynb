{
 "cells": [
  {
   "cell_type": "code",
   "execution_count": 8,
   "id": "c13c3db0",
   "metadata": {},
   "outputs": [],
   "source": [
    "# heapq module\n",
    "\n",
    "# minheap\n",
    "\n",
    "\n"
   ]
  },
  {
   "cell_type": "code",
   "execution_count": 17,
   "id": "452f41bf",
   "metadata": {},
   "outputs": [
    {
     "name": "stdout",
     "output_type": "stream",
     "text": [
      "[2, 10, 14, 25, 20]\n",
      "2\n",
      "[10, 20, 14, 25]\n",
      "1\n",
      "[10, 20, 14, 25]\n",
      "[20, 14, 2, 15, 10, 21]\n",
      "[2, 10, 14]\n",
      "[21, 20, 15]\n"
     ]
    }
   ],
   "source": [
    "import heapq as heap\n",
    "\n",
    "L1 = []\n",
    "\n",
    "heap.heappush(L1,25)\n",
    "heap.heappush(L1,14)\n",
    "heap.heappush(L1,2)\n",
    "heap.heappush(L1,20)\n",
    "heap.heappush(L1,10)\n",
    "print(L1)\n",
    "\n",
    "ele = heap.heappop(L1)\n",
    "print(ele)\n",
    "print(L1)\n",
    "\n",
    "e2=heap.heappushpop(L1,1)\n",
    "print(e2)\n",
    "print(L1)\n",
    "\n",
    "L2=[20,14,2,15,10,21]\n",
    "print(L2)\n",
    "heap.heapify(L2)  # gives min heap\n",
    "\n",
    "print(heap.nsmallest(3,L2))\n",
    "print(heap.nlargest(3,L2))"
   ]
  },
  {
   "cell_type": "code",
   "execution_count": null,
   "id": "b64c6a82",
   "metadata": {},
   "outputs": [],
   "source": []
  }
 ],
 "metadata": {
  "kernelspec": {
   "display_name": "Python 3 (ipykernel)",
   "language": "python",
   "name": "python3"
  },
  "language_info": {
   "codemirror_mode": {
    "name": "ipython",
    "version": 3
   },
   "file_extension": ".py",
   "mimetype": "text/x-python",
   "name": "python",
   "nbconvert_exporter": "python",
   "pygments_lexer": "ipython3",
   "version": "3.9.12"
  }
 },
 "nbformat": 4,
 "nbformat_minor": 5
}
